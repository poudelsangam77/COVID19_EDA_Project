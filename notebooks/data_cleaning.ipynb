{
 "cells": [
  {
   "cell_type": "markdown",
   "metadata": {},
   "source": [
    "# Data Cleaning Notebook\n",
    "This notebook documents the cleaning process for the COVID-19 datasets. The goal is to ensure the data is clean, consistent, and ready for analysis.\n"
   ]
  },
  {
   "cell_type": "code",
   "execution_count": 2,
   "metadata": {},
   "outputs": [],
   "source": [
    "#improrting the necessary Libraries \n",
    "import pandas as pd\n",
    "import numpy as np\n",
    "import matplotlib.pyplot as plt\n",
    "import seaborn as sns "
   ]
  },
  {
   "cell_type": "markdown",
   "metadata": {},
   "source": [
    "## Loading the Datasets\n"
   ]
  },
  {
   "cell_type": "code",
   "execution_count": 3,
   "metadata": {},
   "outputs": [],
   "source": [
    "#defining the path for the csv files \n",
    "\n",
    "confirmed_cases_path = r\"C:\\Users\\sanga\\Documents\\COVID19_EDA_Project\\data\\raw\\time_series_covid19_confirmed_global.csv\"\n",
    "deaths_path = r\"C:\\Users\\sanga\\Documents\\COVID19_EDA_Project\\data\\raw\\time_series_covid19_deaths_global.csv\"\n",
    "recovered_path = r\"C:\\Users\\sanga\\Documents\\COVID19_EDA_Project\\data\\raw\\time_series_covid19_recovered_global.csv\"\n",
    "vaccinations_path = r\"C:\\Users\\sanga\\Documents\\COVID19_EDA_Project\\data\\raw\\vaccinations.csv\"\n",
    "\n",
    "#converting the csv into the pandas dataframe \n",
    "confirmed_cases = pd.read_csv(confirmed_cases_path)\n",
    "deaths = pd.read_csv(deaths_path)\n",
    "recovered = pd.read_csv(recovered_path)\n",
    "vaccinations = pd.read_csv(vaccinations_path)\n"
   ]
  },
  {
   "cell_type": "code",
   "execution_count": 4,
   "metadata": {},
   "outputs": [
    {
     "name": "stdout",
     "output_type": "stream",
     "text": [
      "<class 'pandas.core.frame.DataFrame'>\n",
      "RangeIndex: 289 entries, 0 to 288\n",
      "Columns: 1147 entries, Province/State to 3/9/23\n",
      "dtypes: float64(2), int64(1143), object(2)\n",
      "memory usage: 2.5+ MB\n",
      "  Province/State Country/Region       Lat       Long  1/22/20  1/23/20  \\\n",
      "0            NaN    Afghanistan  33.93911  67.709953        0        0   \n",
      "1            NaN        Albania  41.15330  20.168300        0        0   \n",
      "2            NaN        Algeria  28.03390   1.659600        0        0   \n",
      "3            NaN        Andorra  42.50630   1.521800        0        0   \n",
      "4            NaN         Angola -11.20270  17.873900        0        0   \n",
      "\n",
      "   1/24/20  1/25/20  1/26/20  1/27/20  ...  2/28/23  3/1/23  3/2/23  3/3/23  \\\n",
      "0        0        0        0        0  ...   209322  209340  209358  209362   \n",
      "1        0        0        0        0  ...   334391  334408  334408  334427   \n",
      "2        0        0        0        0  ...   271441  271448  271463  271469   \n",
      "3        0        0        0        0  ...    47866   47875   47875   47875   \n",
      "4        0        0        0        0  ...   105255  105277  105277  105277   \n",
      "\n",
      "   3/4/23  3/5/23  3/6/23  3/7/23  3/8/23  3/9/23  \n",
      "0  209369  209390  209406  209436  209451  209451  \n",
      "1  334427  334427  334427  334427  334443  334457  \n",
      "2  271469  271477  271477  271490  271494  271496  \n",
      "3   47875   47875   47875   47875   47890   47890  \n",
      "4  105277  105277  105277  105277  105288  105288  \n",
      "\n",
      "[5 rows x 1147 columns]\n",
      "<class 'pandas.core.frame.DataFrame'>\n",
      "RangeIndex: 289 entries, 0 to 288\n",
      "Columns: 1147 entries, Province/State to 3/9/23\n",
      "dtypes: float64(2), int64(1143), object(2)\n",
      "memory usage: 2.5+ MB\n",
      "  Province/State Country/Region       Lat       Long  1/22/20  1/23/20  \\\n",
      "0            NaN    Afghanistan  33.93911  67.709953        0        0   \n",
      "1            NaN        Albania  41.15330  20.168300        0        0   \n",
      "2            NaN        Algeria  28.03390   1.659600        0        0   \n",
      "3            NaN        Andorra  42.50630   1.521800        0        0   \n",
      "4            NaN         Angola -11.20270  17.873900        0        0   \n",
      "\n",
      "   1/24/20  1/25/20  1/26/20  1/27/20  ...  2/28/23  3/1/23  3/2/23  3/3/23  \\\n",
      "0        0        0        0        0  ...     7896    7896    7896    7896   \n",
      "1        0        0        0        0  ...     3598    3598    3598    3598   \n",
      "2        0        0        0        0  ...     6881    6881    6881    6881   \n",
      "3        0        0        0        0  ...      165     165     165     165   \n",
      "4        0        0        0        0  ...     1933    1933    1933    1933   \n",
      "\n",
      "   3/4/23  3/5/23  3/6/23  3/7/23  3/8/23  3/9/23  \n",
      "0    7896    7896    7896    7896    7896    7896  \n",
      "1    3598    3598    3598    3598    3598    3598  \n",
      "2    6881    6881    6881    6881    6881    6881  \n",
      "3     165     165     165     165     165     165  \n",
      "4    1933    1933    1933    1933    1933    1933  \n",
      "\n",
      "[5 rows x 1147 columns]\n",
      "<class 'pandas.core.frame.DataFrame'>\n",
      "RangeIndex: 274 entries, 0 to 273\n",
      "Columns: 1147 entries, Province/State to 3/9/23\n",
      "dtypes: float64(2), int64(1143), object(2)\n",
      "memory usage: 2.4+ MB\n",
      "  Province/State Country/Region       Lat       Long  1/22/20  1/23/20  \\\n",
      "0            NaN    Afghanistan  33.93911  67.709953        0        0   \n",
      "1            NaN        Albania  41.15330  20.168300        0        0   \n",
      "2            NaN        Algeria  28.03390   1.659600        0        0   \n",
      "3            NaN        Andorra  42.50630   1.521800        0        0   \n",
      "4            NaN         Angola -11.20270  17.873900        0        0   \n",
      "\n",
      "   1/24/20  1/25/20  1/26/20  1/27/20  ...  2/28/23  3/1/23  3/2/23  3/3/23  \\\n",
      "0        0        0        0        0  ...        0       0       0       0   \n",
      "1        0        0        0        0  ...        0       0       0       0   \n",
      "2        0        0        0        0  ...        0       0       0       0   \n",
      "3        0        0        0        0  ...        0       0       0       0   \n",
      "4        0        0        0        0  ...        0       0       0       0   \n",
      "\n",
      "   3/4/23  3/5/23  3/6/23  3/7/23  3/8/23  3/9/23  \n",
      "0       0       0       0       0       0       0  \n",
      "1       0       0       0       0       0       0  \n",
      "2       0       0       0       0       0       0  \n",
      "3       0       0       0       0       0       0  \n",
      "4       0       0       0       0       0       0  \n",
      "\n",
      "[5 rows x 1147 columns]\n",
      "<class 'pandas.core.frame.DataFrame'>\n",
      "RangeIndex: 196246 entries, 0 to 196245\n",
      "Data columns (total 16 columns):\n",
      " #   Column                               Non-Null Count   Dtype  \n",
      "---  ------                               --------------   -----  \n",
      " 0   location                             196246 non-null  object \n",
      " 1   iso_code                             196246 non-null  object \n",
      " 2   date                                 196246 non-null  object \n",
      " 3   total_vaccinations                   85417 non-null   float64\n",
      " 4   people_vaccinated                    81132 non-null   float64\n",
      " 5   people_fully_vaccinated              78061 non-null   float64\n",
      " 6   total_boosters                       53600 non-null   float64\n",
      " 7   daily_vaccinations_raw               70971 non-null   float64\n",
      " 8   daily_vaccinations                   195029 non-null  float64\n",
      " 9   total_vaccinations_per_hundred       85417 non-null   float64\n",
      " 10  people_vaccinated_per_hundred        81132 non-null   float64\n",
      " 11  people_fully_vaccinated_per_hundred  78061 non-null   float64\n",
      " 12  total_boosters_per_hundred           53600 non-null   float64\n",
      " 13  daily_vaccinations_per_million       195029 non-null  float64\n",
      " 14  daily_people_vaccinated              192177 non-null  float64\n",
      " 15  daily_people_vaccinated_per_hundred  192177 non-null  float64\n",
      "dtypes: float64(13), object(3)\n",
      "memory usage: 24.0+ MB\n",
      "      location iso_code        date  total_vaccinations  people_vaccinated  \\\n",
      "0  Afghanistan      AFG  2021-02-22                 0.0                0.0   \n",
      "1  Afghanistan      AFG  2021-02-23                 NaN                NaN   \n",
      "2  Afghanistan      AFG  2021-02-24                 NaN                NaN   \n",
      "3  Afghanistan      AFG  2021-02-25                 NaN                NaN   \n",
      "4  Afghanistan      AFG  2021-02-26                 NaN                NaN   \n",
      "\n",
      "   people_fully_vaccinated  total_boosters  daily_vaccinations_raw  \\\n",
      "0                      NaN             NaN                     NaN   \n",
      "1                      NaN             NaN                     NaN   \n",
      "2                      NaN             NaN                     NaN   \n",
      "3                      NaN             NaN                     NaN   \n",
      "4                      NaN             NaN                     NaN   \n",
      "\n",
      "   daily_vaccinations  total_vaccinations_per_hundred  \\\n",
      "0                 NaN                             0.0   \n",
      "1              1367.0                             NaN   \n",
      "2              1367.0                             NaN   \n",
      "3              1367.0                             NaN   \n",
      "4              1367.0                             NaN   \n",
      "\n",
      "   people_vaccinated_per_hundred  people_fully_vaccinated_per_hundred  \\\n",
      "0                            0.0                                  NaN   \n",
      "1                            NaN                                  NaN   \n",
      "2                            NaN                                  NaN   \n",
      "3                            NaN                                  NaN   \n",
      "4                            NaN                                  NaN   \n",
      "\n",
      "   total_boosters_per_hundred  daily_vaccinations_per_million  \\\n",
      "0                         NaN                             NaN   \n",
      "1                         NaN                            33.0   \n",
      "2                         NaN                            33.0   \n",
      "3                         NaN                            33.0   \n",
      "4                         NaN                            33.0   \n",
      "\n",
      "   daily_people_vaccinated  daily_people_vaccinated_per_hundred  \n",
      "0                      NaN                                  NaN  \n",
      "1                   1367.0                                0.003  \n",
      "2                   1367.0                                0.003  \n",
      "3                   1367.0                                0.003  \n",
      "4                   1367.0                                0.003  \n"
     ]
    }
   ],
   "source": [
    "# Displaying the first few rows and summary of each dataset\n",
    "confirmed_cases.info()\n",
    "print(confirmed_cases.head())\n",
    "deaths.info()\n",
    "print(deaths.head())\n",
    "recovered.info()\n",
    "print(recovered.head())\n",
    "vaccinations.info()\n",
    "print(vaccinations.head())"
   ]
  },
  {
   "cell_type": "markdown",
   "metadata": {},
   "source": [
    "### Handling the missing values and cleaning the Datasets"
   ]
  },
  {
   "cell_type": "code",
   "execution_count": 5,
   "metadata": {},
   "outputs": [
    {
     "name": "stderr",
     "output_type": "stream",
     "text": [
      "C:\\Users\\sanga\\AppData\\Local\\Temp\\ipykernel_3948\\2024017036.py:6: FutureWarning: A value is trying to be set on a copy of a DataFrame or Series through chained assignment using an inplace method.\n",
      "The behavior will change in pandas 3.0. This inplace method will never work because the intermediate object on which we are setting values always behaves as a copy.\n",
      "\n",
      "For example, when doing 'df[col].method(value, inplace=True)', try using 'df.method({col: value}, inplace=True)' or df[col] = df[col].method(value) instead, to perform the operation inplace on the original object.\n",
      "\n",
      "\n",
      "  df['Province/State'].fillna('Unknown', inplace=True)\n"
     ]
    }
   ],
   "source": [
    "#cleaning procedure for the confirmed,deaths and recovered\n",
    "\n",
    "#filling the missing province/state values \n",
    "\n",
    "for df in [confirmed_cases, deaths, recovered]:\n",
    "    df['Province/State'].fillna('Unknown', inplace=True)\n"
   ]
  },
  {
   "cell_type": "code",
   "execution_count": 6,
   "metadata": {},
   "outputs": [],
   "source": [
    "#melting the date column \n",
    "for df in [confirmed_cases, deaths, recovered]:\n",
    "    df_long = df.melt(\n",
    "        id_vars=['Province/State', 'Country/Region', 'Lat', 'Long'],\n",
    "        var_name='Date', value_name='Cumulative_Count'\n",
    "    )\n"
   ]
  },
  {
   "cell_type": "code",
   "execution_count": 7,
   "metadata": {},
   "outputs": [
    {
     "name": "stderr",
     "output_type": "stream",
     "text": [
      "C:\\Users\\sanga\\AppData\\Local\\Temp\\ipykernel_3948\\26197598.py:2: UserWarning: Could not infer format, so each element will be parsed individually, falling back to `dateutil`. To ensure parsing is consistent and as-expected, please specify a format.\n",
      "  df_long['Date'] = pd.to_datetime(df_long['Date'])\n"
     ]
    }
   ],
   "source": [
    "#converting the date to the datetime format \n",
    "df_long['Date'] = pd.to_datetime(df_long['Date'])\n"
   ]
  },
  {
   "cell_type": "code",
   "execution_count": 8,
   "metadata": {},
   "outputs": [],
   "source": [
    "#computing the daily chane \n",
    "df_long['Daily_Change'] = df_long.groupby(['Province/State', 'Country/Region'])['Cumulative_Count'].diff().fillna(0)\n"
   ]
  },
  {
   "cell_type": "code",
   "execution_count": 9,
   "metadata": {},
   "outputs": [],
   "source": [
    "#cleaning the vaccination data \n",
    "\n",
    "#converting the vaccination date to the datetime format \n",
    "vaccinations['date'] = pd.to_datetime(vaccinations['date'])\n"
   ]
  },
  {
   "cell_type": "code",
   "execution_count": 10,
   "metadata": {},
   "outputs": [],
   "source": [
    "#filling the missing columns \n",
    "fill_columns = ['total_vaccinations', 'people_vaccinated', 'people_fully_vaccinated']\n",
    "vaccinations[fill_columns] = vaccinations[fill_columns].fillna(0)\n"
   ]
  },
  {
   "cell_type": "code",
   "execution_count": 11,
   "metadata": {},
   "outputs": [],
   "source": [
    "#dropping the unnecessary columns if they exist\n",
    "if 'iso_code' in vaccinations.columns:\n",
    "\tvaccinations.drop(columns=['iso_code'], inplace=True)\n"
   ]
  },
  {
   "cell_type": "markdown",
   "metadata": {},
   "source": [
    "#### Saving the cleaned Datasets "
   ]
  },
  {
   "cell_type": "code",
   "execution_count": 15,
   "metadata": {},
   "outputs": [],
   "source": [
    "#saving the cleanded data \n",
    "confirmed_cases.to_csv(r\"C:\\Users\\sanga\\Documents\\COVID19_EDA_Project\\data\\processed\\cleaned_confirmed_cases.csv\")\n",
    "deaths.to_csv(r\"C:\\Users\\sanga\\Documents\\COVID19_EDA_Project\\data\\processed\\cleaned_deaths.csv\")\n",
    "recovered.to_csv(r\"C:\\Users\\sanga\\Documents\\COVID19_EDA_Project\\data\\processed\\cleaned_recovered.csv\")\n",
    "confirmed_cases.to_csv(r\"C:\\Users\\sanga\\Documents\\COVID19_EDA_Project\\data\\processed\\cleaned_vaccinations.csv\")\n"
   ]
  }
 ],
 "metadata": {
  "kernelspec": {
   "display_name": "base",
   "language": "python",
   "name": "python3"
  },
  "language_info": {
   "codemirror_mode": {
    "name": "ipython",
    "version": 3
   },
   "file_extension": ".py",
   "mimetype": "text/x-python",
   "name": "python",
   "nbconvert_exporter": "python",
   "pygments_lexer": "ipython3",
   "version": "3.12.7"
  }
 },
 "nbformat": 4,
 "nbformat_minor": 2
}
